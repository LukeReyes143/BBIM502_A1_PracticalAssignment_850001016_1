{
 "cells": [
  {
   "cell_type": "markdown",
   "id": "1fd53c84-ae9e-4e1d-a571-c7323d208775",
   "metadata": {},
   "source": [
    "Task 1: Variables & Datatypes"
   ]
  },
  {
   "cell_type": "code",
   "execution_count": 23,
   "id": "c458407b-795a-4d24-aece-e8e4ed669f63",
   "metadata": {},
   "outputs": [
    {
     "name": "stdin",
     "output_type": "stream",
     "text": [
      " Enter mass in kilograms 5.7\n",
      " Enter velocity in meters per second 3.5\n"
     ]
    },
    {
     "name": "stdout",
     "output_type": "stream",
     "text": [
      " Momentum(e) =  69.825  kg m/s\n"
     ]
    }
   ],
   "source": [
    "m = float(input(\" Enter mass in kilograms\"))\n",
    "c = float(input(\" Enter velocity in meters per second\"))\n",
    "\n",
    "e = m*c**2\n",
    "\n",
    "print(\" Momentum(e) = \", e,\" kg m/s\")"
   ]
  },
  {
   "cell_type": "markdown",
   "id": "8c11fe6f-77bf-42c6-bd29-04a33f657a22",
   "metadata": {},
   "source": [
    "Task 2: Arithmetic Operators"
   ]
  },
  {
   "cell_type": "code",
   "execution_count": 40,
   "id": "dadca8f2-6839-4166-ba4b-46c702a709d7",
   "metadata": {},
   "outputs": [
    {
     "name": "stdin",
     "output_type": "stream",
     "text": [
      "Parking type(Casual, Early Bird, Night, Weekend):  Weekend\n",
      "Time_in(year-month-day hour:minute):  2024-04-20 12:32\n",
      "Time_out(year-month-day hour:minute):  2024-04-21 01:20\n"
     ]
    },
    {
     "name": "stdout",
     "output_type": "stream",
     "text": [
      "Total parking charge: 3.0\n"
     ]
    }
   ],
   "source": [
    "from datetime import datetime\n",
    "def calculate_charge(parking_type, time_in, time_out):\n",
    "    time_diff=(time_out-time_in).seconds // 60\n",
    "    if parking_type == \"Casual\":\n",
    "        if time_diff <= 20:\n",
    "            return 3.00\n",
    "        elif time_diff <= 60:\n",
    "            return 15.00\n",
    "        else:\n",
    "            return min(15 + (time_diff-60) // 30*7.5, 55.00)\n",
    "    elif parking_type == \"Early Bird\":\n",
    "        if 5 <= time_in.hour < 10 and 14 <= time_out.hour <= 20:\n",
    "            return 15.00\n",
    "        else:\n",
    "            return \"Extra charge\"\n",
    "    elif parking_type == \"Night\":\n",
    "        if 16 <= time_in.hour < 6:\n",
    "            return 3.00\n",
    "    elif parking_type == \"Weekend\":\n",
    "        if time_in.weekday() in [5, 6] and time_out.hour < 6:\n",
    "            return 3.00\n",
    "parking_type = input(\"Parking type(Casual, Early Bird, Night, Weekend): \")\n",
    "time_in_str = input(\"Time_in(year-month-day hour:minute): \")\n",
    "time_out_str = input(\"Time_out(year-month-day hour:minute): \")\n",
    "time_in = datetime.strptime(time_in_str, \"%Y-%m-%d %H:%M\")\n",
    "time_out = datetime.strptime(time_out_str, \"%Y-%m-%d %H:%M\")\n",
    "charge = calculate_charge(parking_type, time_in, time_out)\n",
    "print(\"Total parking charge:\", charge)"
   ]
  },
  {
   "cell_type": "markdown",
   "id": "5e8b1118-a396-4a05-a51b-51f7deec1a35",
   "metadata": {},
   "source": [
    "Task 3: Comparison Operators"
   ]
  },
  {
   "cell_type": "code",
   "execution_count": 41,
   "id": "31d0d616-e560-43ef-994a-066ec575cbda",
   "metadata": {
    "scrolled": true
   },
   "outputs": [
    {
     "name": "stdin",
     "output_type": "stream",
     "text": [
      "Enter the electricity consumption for customer 1 in kWh:  300\n",
      "Enter the electricity consumption for customer 2 in kWh:  301\n",
      "Enter the electricity consumption for customer 3 in kWh:  503\n"
     ]
    },
    {
     "name": "stdout",
     "output_type": "stream",
     "text": [
      "Customer 1:\n",
      "Low User option is more economical with a total cost of $57.00.\n",
      "Customer 2:\n",
      "Low User option is more economical with a total cost of $57.13.\n",
      "Customer 3:\n",
      "Low User option is more economical with a total cost of $83.39.\n"
     ]
    }
   ],
   "source": [
    "def calculate_cost(consumption, levy, daily_charge, all_day_economy, is_low_user):\n",
    "    if is_low_user:\n",
    "        cost = (levy * consumption) + (daily_charge * 30)\n",
    "    else:\n",
    "        cost = (levy * consumption) + (1.891 * 30) + ((consumption - 300) * (all_day_economy - 0.13))\n",
    "    return cost\n",
    "def suggest_economical_option(low_cost, standard_cost):\n",
    "    if low_cost < standard_cost:\n",
    "        return \"Low User option is more economical with a total cost of ${:.2f}.\".format(low_cost)\n",
    "    else:\n",
    "        return \"Standard User option is more economical with a total cost of ${:.2f}.\".format(standard_cost)\n",
    "customer1_consumption = int(input(\"Enter the electricity consumption for customer 1 in kWh: \"))\n",
    "customer2_consumption = int(input(\"Enter the electricity consumption for customer 2 in kWh: \"))\n",
    "customer3_consumption = int(input(\"Enter the electricity consumption for customer 3 in kWh: \"))\n",
    "if customer1_consumption <= 300:\n",
    "    low_cost_customer1 = calculate_cost(customer1_consumption, 0.13, 0.60, 0.238, True)\n",
    "    standard_cost_customer1 = calculate_cost(customer1_consumption, 0.13, 1.891, 0.18, False)\n",
    "    print(\"Customer 1:\")\n",
    "    print(suggest_economical_option(low_cost_customer1, standard_cost_customer1))\n",
    "else:\n",
    "    print(\"Customer 1: Invalid entry\")\n",
    "if 300 < customer2_consumption <= 500:\n",
    "    low_cost_customer2 = calculate_cost(customer2_consumption, 0.13, 0.60, 0.238, True)\n",
    "    standard_cost_customer2 = calculate_cost(customer2_consumption, 0.13, 1.891, 0.18, False)\n",
    "    print(\"Customer 2:\")\n",
    "    print(suggest_economical_option(low_cost_customer2, standard_cost_customer2))\n",
    "else:\n",
    "    print(\"Customer 2: Invalid entry\")\n",
    "if customer3_consumption > 500:\n",
    "    low_cost_customer3 = calculate_cost(customer3_consumption, 0.13, 0.60, 0.238, True)\n",
    "    standard_cost_customer3 = calculate_cost(customer3_consumption, 0.13, 1.891, 0.18, False)\n",
    "    print(\"Customer 3:\")\n",
    "    print(suggest_economical_option(low_cost_customer3, standard_cost_customer3))\n",
    "else:\n",
    "    print(\"Customer 3: Invalid entry\")"
   ]
  },
  {
   "cell_type": "markdown",
   "id": "6b08a4d9-a50b-43af-8f3d-8da27ea38ffb",
   "metadata": {},
   "source": [
    "Task 4: Logical Operators"
   ]
  },
  {
   "cell_type": "code",
   "execution_count": 44,
   "id": "75266c63-44ff-4fee-9549-a8f0efe59664",
   "metadata": {},
   "outputs": [
    {
     "name": "stdin",
     "output_type": "stream",
     "text": [
      "Enter employee's hourly wage: $ 21\n",
      "Enter total regular hours worked:  20\n",
      "Enter extra overtime hours worked:  2\n"
     ]
    },
    {
     "name": "stdout",
     "output_type": "stream",
     "text": [
      "\n",
      "Employee's total weekly pay: $ 483.00\n",
      "The employee worked 2.0 extra overtime hours\n"
     ]
    }
   ],
   "source": [
    "per_hour_wage = float(input(\"Enter employee's hourly wage: $\"))\n",
    "total_regular_hours = float(input(\"Enter total regular hours worked: \"))\n",
    "extra_overtime_hours = float(input(\"Enter extra overtime hours worked: \"))\n",
    "overtime_pay = extra_overtime_hours*1.5*per_hour_wage\n",
    "total_weekly_pay = per_hour_wage*total_regular_hours + overtime_pay\n",
    "print(\"\\nEmployee's total weekly pay: $\", format(total_weekly_pay, '.2f'))\n",
    "if extra_overtime_hours > 0:\n",
    "    print(\"The employee worked\", extra_overtime_hours, \"extra overtime hours\")\n",
    "else:\n",
    "    print(\"The employee didn't work extra overtime hours\")"
   ]
  },
  {
   "cell_type": "markdown",
   "id": "c040da48-7979-430c-88d6-daeadd99b40e",
   "metadata": {},
   "source": [
    "Task 5: Simple Function with Parameters"
   ]
  },
  {
   "cell_type": "code",
   "execution_count": 46,
   "id": "f0566807-40ba-412a-be84-0db46f139320",
   "metadata": {},
   "outputs": [
    {
     "name": "stdin",
     "output_type": "stream",
     "text": [
      "Enter the temperature:  67\n",
      "Enter the source unit (Fahrenheit, Celsius, Kelvin):  kelvin\n",
      "Enter the target unit (Fahrenheit, Celsius, Kelvin):  celsius\n"
     ]
    },
    {
     "name": "stdout",
     "output_type": "stream",
     "text": [
      "67.0 kelvin is equivalent to -206.14999999999998 celsius\n"
     ]
    }
   ],
   "source": [
    "def convert_fahrenheit_to_celsius(temperature):\n",
    "    return (temperature - 32) * 5/9\n",
    "def convert_fahrenheit_to_kelvin(temperature):\n",
    "    return convert_celsius_to_kelvin(convert_fahrenheit_to_celsius(temperature))\n",
    "def convert_celsius_to_fahrenheit(temperature):\n",
    "    return temperature * 9/5 + 32\n",
    "def convert_celsius_to_kelvin(temperature):\n",
    "    return temperature + 273.15\n",
    "def convert_kelvin_to_celsius(temperature):\n",
    "    return temperature - 273.15\n",
    "def convert_kelvin_to_fahrenheit(temperature):\n",
    "    return convert_celsius_to_fahrenheit(convert_kelvin_to_celsius(temperature))\n",
    "temperature = float(input(\"Enter the temperature: \"))\n",
    "unit_source = input(\"Enter the source unit (Fahrenheit, Celsius, Kelvin): \").lower()\n",
    "unit_target = input(\"Enter the target unit (Fahrenheit, Celsius, Kelvin): \").lower()\n",
    "if unit_source == \"fahrenheit\":\n",
    "    if unit_target == \"celsius\":\n",
    "        temp_converted = convert_fahrenheit_to_celsius(temperature)\n",
    "    elif unit_target == \"kelvin\":\n",
    "        temp_converted = convert_fahrenheit_to_kelvin(temperature)\n",
    "elif unit_source == \"celsius\":\n",
    "    if unit_target == \"fahrenheit\":\n",
    "        temp_converted = convert_celsius_to_fahrenheit(temperature)\n",
    "    elif unit_target == \"kelvin\":\n",
    "        temp_converted = convert_celsius_to_kelvin(temperature)\n",
    "elif unit_source == \"kelvin\":\n",
    "    if unit_target == \"celsius\":\n",
    "        temp_converted = convert_kelvin_to_celsius(temperature)\n",
    "    elif unit_target == \"fahrenheit\":\n",
    "        temp_converted = convert_kelvin_to_fahrenheit(temperature)\n",
    "    exit()\n",
    "print(f\"{temperature} {unit_source} is equivalent to {temp_converted} {unit_target}\")"
   ]
  },
  {
   "cell_type": "markdown",
   "id": "19e1622e-2db8-453e-8709-cefb16129add",
   "metadata": {},
   "source": [
    "Task 6: Function with Arrays"
   ]
  },
  {
   "cell_type": "code",
   "execution_count": 13,
   "id": "1a974e45-fd41-45cb-bac6-552602b216af",
   "metadata": {},
   "outputs": [
    {
     "name": "stdin",
     "output_type": "stream",
     "text": [
      "Enter value of N:  19\n"
     ]
    },
    {
     "name": "stdout",
     "output_type": "stream",
     "text": [
      "The first 19 numbers of Fibonacci sequence:\n",
      "array('I', [0, 1, 1, 2, 3, 5, 8, 13, 21, 34, 55, 89, 144, 233, 377, 610, 987, 1597, 2584])\n",
      "\n",
      "The 19th number of Fibonacci sequence:\n",
      "2584\n"
     ]
    }
   ],
   "source": [
    "import array as array\n",
    "def hbfSeqFunc016():\n",
    "    N = int(input(\"Enter value of N: \"))\n",
    "    fib_seq = array.array('I', [0, 1])\n",
    "    for i in range(2, N):\n",
    "        fib_seq.append(fib_seq[i-1] + fib_seq[i-2])\n",
    "    print(\"The first {} numbers of Fibonacci sequence:\".format(N))\n",
    "    print(fib_seq[:N])\n",
    "    print(\"\\nThe {}th number of Fibonacci sequence:\".format(N))\n",
    "    print(fib_seq[N-1])\n",
    "hbfSeqFunc016()"
   ]
  },
  {
   "cell_type": "markdown",
   "id": "e386037b-19f4-4d84-9fee-093f3214a113",
   "metadata": {},
   "source": [
    "Task 7: Data structures: List"
   ]
  },
  {
   "cell_type": "code",
   "execution_count": 37,
   "id": "9e21df2b-79bd-4991-bba1-999d3273fe5b",
   "metadata": {},
   "outputs": [
    {
     "name": "stdin",
     "output_type": "stream",
     "text": [
      "Please enter your full name into list:  Luke Reyes\n",
      "Please enter your age into list:  19\n",
      "Please enter your full name into list:  Sky Polido\n",
      "Please enter your age into list:  20\n",
      "Please enter your full name into list:  Jet Polido\n",
      "Please enter your age into list:  11\n",
      "Please enter your full name into list:  Wesley Matthew\n",
      "Please enter your age into list:  20\n",
      "Please enter your full name into list:  Kyle Cabiles\n",
      "Please enter your age into list:  21\n"
     ]
    },
    {
     "name": "stdout",
     "output_type": "stream",
     "text": [
      "User List:\n",
      "Full Name: Luke Reyes, Age: 19\n",
      "Full Name: Sky Polido, Age: 20\n",
      "Full Name: Jet Polido, Age: 11\n",
      "Full Name: Wesley Matthew, Age: 20\n",
      "Full Name: Kyle Cabiles, Age: 21\n"
     ]
    },
    {
     "name": "stdin",
     "output_type": "stream",
     "text": [
      "Please enter full name of user to be removed from within list:  Wesley Matthew\n",
      "Please enter age of user to be removed from within list:  20\n",
      "Please enter full name of user to find from within list:  Sky Polido\n",
      "Please enter age of user to find from within list:  20\n"
     ]
    },
    {
     "name": "stdout",
     "output_type": "stream",
     "text": [
      "User has been found within list!\n",
      "User list arranged by age in ascending order:\n",
      "Full Name: Jet Polido, Age: 11\n",
      "Full Name: Luke Reyes, Age: 19\n",
      "Full Name: Sky Polido, Age: 20\n",
      "Full Name: Kyle Cabiles, Age: 21\n",
      "User list arranged by age in descending order:\n",
      "Full Name: Kyle Cabiles, Age: 21\n",
      "Full Name: Sky Polido, Age: 20\n",
      "Full Name: Luke Reyes, Age: 19\n",
      "Full Name: Jet Polido, Age: 11\n"
     ]
    }
   ],
   "source": [
    "def insert(UserList):\n",
    "    for i in range(5):\n",
    "        full_name = input(\"Please enter your full name into list: \")\n",
    "        Age = int(input(\"Please enter your age into list: \"))\n",
    "        newUser = {\"full_name\": full_name, \"age\": Age}\n",
    "        UserList.append(newUser)\n",
    "def remove(UserList):\n",
    "    full_name = input(\"Please enter full name of user to be removed from within list: \")\n",
    "    Age = int(input(\"Please enter age of user to be removed from within list: \"))\n",
    "    for i in range(len(UserList)):\n",
    "        if UserList[i][\"full_name\"] == full_name and UserList[i][\"age\"] == Age:\n",
    "            UserList.pop(i)\n",
    "            break\n",
    "def find(UserList):\n",
    "    full_name = input(\"Please enter full name of user to find from within list: \")\n",
    "    Age = int(input(\"Please enter age of user to find from within list: \"))\n",
    "    for user in UserList:\n",
    "        if user[\"full_name\"] == full_name and user[\"age\"] == Age:\n",
    "            print(\"User has been found within list!\")\n",
    "            return\n",
    "    print(\"User has not been found within list!\")\n",
    "def Ascending(UserList):\n",
    "    UserList.sort(key = lambda x: x[\"age\"])\n",
    "def Descending(UserList):\n",
    "    UserList.sort(key = lambda x: x[\"age\"], reverse=True)\n",
    "UserList = []\n",
    "insert(UserList)\n",
    "print(\"User List:\")\n",
    "for user in UserList:\n",
    "    print(\"Full Name: {}, Age: {}\".format(user[\"full_name\"], user[\"age\"]))\n",
    "remove(UserList)\n",
    "find(UserList)\n",
    "Ascending(UserList)\n",
    "print(\"User list arranged by age in ascending order:\")\n",
    "for user in UserList:\n",
    "    print(\"Full Name: {}, Age: {}\".format(user[\"full_name\"], user[\"age\"]))\n",
    "Descending(UserList)\n",
    "print(\"User list arranged by age in descending order:\")\n",
    "for user in UserList:\n",
    "    print(\"Full Name: {}, Age: {}\".format(user[\"full_name\"], user[\"age\"]))"
   ]
  },
  {
   "cell_type": "markdown",
   "id": "15c0351d-94a7-47b6-9c05-46d2e6b88951",
   "metadata": {},
   "source": [
    "Task 8: Data structures: Dictionary"
   ]
  },
  {
   "cell_type": "code",
   "execution_count": 84,
   "id": "de094cf9-1554-4539-99c1-a3bccf4c6d41",
   "metadata": {},
   "outputs": [
    {
     "name": "stdout",
     "output_type": "stream",
     "text": [
      "Complete Inventory of items and there value:\n",
      "bow: 2\n",
      "arrow: 20\n",
      "gun: 3\n",
      "bullet: 100\n",
      "rope: 1\n",
      "torch: 4\n",
      "jacket: 2\n",
      "\n",
      "bullet value is: 100\n",
      "\n",
      "Keys of the Inventory:\n",
      "bow\n",
      "arrow\n",
      "gun\n",
      "bullet\n",
      "rope\n",
      "torch\n",
      "jacket\n",
      "\n",
      "Values of the Inventory:\n",
      "2\n",
      "20\n",
      "3\n",
      "100\n",
      "1\n",
      "4\n",
      "2\n"
     ]
    }
   ],
   "source": [
    "Inventory_Item_Values = {  \n",
    "    \"bow\": 2,\n",
    "    \"arrow\": 20,\n",
    "    \"gun\": 3,\n",
    "    \"bullet\": 100,\n",
    "    \"rope\": 1,\n",
    "    \"torch\": 4,\n",
    "    \"jacket\": 2}\n",
    "def Inventory_display ():\n",
    "   print (\"Complete Inventory of items and there value:\")\n",
    "   for key, value in Inventory.items ():\n",
    "     print (f\"{key}: {value}\")\n",
    "def Items_display (item):\n",
    "   value = inventory.get (item)\n",
    "   print (f\"{item} value is: {value}\")\n",
    "def Keys_display ():\n",
    "   keys = inventory.keys ()\n",
    "   print (\"Keys of the Inventory:\")\n",
    "   for key in keys:\n",
    "      print (key)\n",
    "def Values_display ():\n",
    "   values = inventory.values ()\n",
    "   print (\"Values of the Inventory:\")\n",
    "   for value in values:\n",
    "      print (value)   \n",
    "Inventory_display ()\n",
    "print () \n",
    "Items_display (\"bullet\")\n",
    "print () \n",
    "Keys_display ()\n",
    "print () \n",
    "Values_display ()"
   ]
  },
  {
   "cell_type": "code",
   "execution_count": null,
   "id": "e55686d3-08c6-4313-9307-27e9f8b24e87",
   "metadata": {},
   "outputs": [],
   "source": []
  }
 ],
 "metadata": {
  "kernelspec": {
   "display_name": "Python 3 (ipykernel)",
   "language": "python",
   "name": "python3"
  },
  "language_info": {
   "codemirror_mode": {
    "name": "ipython",
    "version": 3
   },
   "file_extension": ".py",
   "mimetype": "text/x-python",
   "name": "python",
   "nbconvert_exporter": "python",
   "pygments_lexer": "ipython3",
   "version": "3.11.7"
  }
 },
 "nbformat": 4,
 "nbformat_minor": 5
}
